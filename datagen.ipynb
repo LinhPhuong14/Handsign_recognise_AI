{
 "cells": [
  {
   "cell_type": "code",
   "execution_count": 1,
   "metadata": {},
   "outputs": [],
   "source": [
    "import cv2\n",
    "import mediapipe as mp\n",
    "import numpy as np"
   ]
  },
  {
   "cell_type": "code",
   "execution_count": 2,
   "metadata": {},
   "outputs": [],
   "source": [
    "mp_drawing = mp.solutions.drawing_utils\n",
    "mp_drawing_styles = mp.solutions.drawing_styles\n",
    "mp_hands = mp.solutions.hands"
   ]
  },
  {
   "cell_type": "code",
   "execution_count": 3,
   "metadata": {},
   "outputs": [],
   "source": [
    "hands = mp_hands.Hands(\n",
    "    model_complexity=0,\n",
    "    min_detection_confidence=0.5,\n",
    "    min_tracking_confidence=0.5,\n",
    "    max_num_hands = 1\n",
    ") "
   ]
  },
  {
   "cell_type": "code",
   "execution_count": 4,
   "metadata": {},
   "outputs": [],
   "source": [
    "def eulidean_distance(landmarkA, landmarkB):\n",
    "    A = np.array([landmarkA.x, landmarkA.y])\n",
    "    B = np.array([landmarkB.x, landmarkB.y])\n",
    "    distance = np.linalg.norm(A-B)\n",
    "    return distance"
   ]
  },
  {
   "cell_type": "code",
   "execution_count": 7,
   "metadata": {},
   "outputs": [],
   "source": [def add_distance(landmarks):
    data = []
    data.append(eulidean_distance(landmarks[4], landmarks[0]))
    data.append(eulidean_distance(landmarks[8], landmarks[0]))
    data.append(eulidean_distance(landmarks[12], landmarks[0]))
    data.append(eulidean_distance(landmarks[16], landmarks[0]))
    data.append(eulidean_distance(landmarks[20], landmarks[0]))
    data.append(eulidean_distance(landmarks[4], landmarks[8]))
    data.append(eulidean_distance(landmarks[4], landmarks[12]))
    data.append(eulidean_distance(landmarks[8], landmarks[12]))
    data.append(eulidean_distance(landmarks[12], landmarks[16]))
    data.append(eulidean_distance(landmarks[20], landmarks[16]))
    data.append(eulidean_distance(landmarks[8], landmarks[16]))
    data.append(eulidean_distance(landmarks[8], landmarks[20]))
    data.append(eulidean_distance(landmarks[12], landmarks[20]))
    data.append(eulidean_distance(landmarks[4], landmarks[12]))
    data.append(eulidean_distance(landmarks[4], landmarks[16]))
    data.append(eulidean_distance(landmarks[4], landmarks[20]))
    return data]
  },
  {
   "cell_type": "code",
   "execution_count": 8,
   "metadata": {},
   "outputs": [],
   "source": [
    "def process(image, live=True):\n",
    "    image = cv2.cvtColor(image, cv2.COLOR_BGR2RGB)\n",
    "    results = hands.process(image)\n",
    "    data = []\n",
    "    image.flags.writeable = True\n",
    "    image = cv2.cvtColor(image, cv2.COLOR_RGB2BGR)\n",
    "    if results.multi_hand_landmarks:\n",
    "        landmarks = results.multi_hand_landmarks[0].landmark \n",
    "        data = add_distance(landmarks)\n",
    "        for hand_landmarks in results.multi_hand_landmarks:\n",
    "            mp_drawing.draw_landmarks(\n",
    "                image,\n",
    "                hand_landmarks,\n",
    "                mp_hands.HAND_CONNECTIONS,\n",
    "                mp_drawing_styles.get_default_hand_landmarks_style(),\n",
    "                mp_drawing_styles.get_default_hand_connections_style())\n",
    "\n",
    "        # Flip the image horizontally for a selfie-view display.\n",
    "    if live:\n",
    "        cv2.imshow('MediaPipe Hands', cv2.flip(image, 1))\n",
    "    return data"
   ]
  },
  {
   "cell_type": "code",
   "execution_count": 11,
   "metadata": {},
   "outputs": [],
   "source": [
    "cap = cv2.VideoCapture(0)\n",
    "count = 0\n",
    "while True:\n",
    "    ret, frame = cap.read()\n",
    "    if not ret:\n",
    "        print(\"Cannot read video stream\")\n",
    "        break\n",
    "    data = np.array(process(frame)) \n",
    "    np.save(f\"./training_data/C/data{'0'*(3-len(str(count)))+str(count)}.npy\", data) \n",
    "    count+=1\n",
    "    if count == 900:\n",
    "        break\n",
    "    if cv2.waitKey(1) & 0xFF == ord(\"q\"):\n",
    "        break\n",
    "cap.release()\n",
    "cv2.destroyAllWindows()"
   ]
  },
  {
   "cell_type": "code",
   "execution_count": null,
   "metadata": {},
   "outputs": [],
   "source": []
  }
 ],
 "metadata": {
  "kernelspec": {
   "display_name": "handsign",
   "language": "python",
   "name": "python3"
  },
  "language_info": {
   "codemirror_mode": {
    "name": "ipython",
    "version": 3
   },
   "file_extension": ".py",
   "mimetype": "text/x-python",
   "name": "python",
   "nbconvert_exporter": "python",
   "pygments_lexer": "ipython3",
   "version": "3.9.18"
  }
 },
 "nbformat": 4,
 "nbformat_minor": 2
}
